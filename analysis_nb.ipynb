{
 "cells": [
  {
   "cell_type": "markdown",
   "metadata": {},
   "source": [
    "# Credit card approval prediction\n",
    "In this notebook, we will build an automatic credit card approval predictor using machine learning techniques.\n",
    "We'll use the <a href=\"http://archive.ics.uci.edu/ml/datasets/credit+approval\">Credit Card Approval dataset</a> from the UCI Machine Learning Repository and build a machine learning model that can predict if an individual's application for a credit card will be accepted.\n",
    "This is a **binary classification problem.**\n",
    "\n",
    "#### Data Set Information:\n",
    "\n",
    " - All attribute names and values have been changed to meaningless symbols to protect confidentiality of the data. \n",
    "\n",
    " - This dataset is interesting because there is a good mix of attributes -- continuous, nominal with small numbers of values, and nominal with larger numbers of values. There are also a few missing values.\n",
    "\n",
    "\n",
    "Attribute Information:\n",
    "\n",
    "- A1:\tb, a. \n",
    "- A2:\tcontinuous. \n",
    "- A3:\tcontinuous. \n",
    "- A4:\tu, y, l, t. \n",
    "- A5:\tg, p, gg. \n",
    "- A6:\tc, d, cc, i, j, k, m, r, q, w, x, e, aa, ff. \n",
    "- A7:\tv, h, bb, j, n, z, dd, ff, o. \n",
    "- A8:\tcontinuous. \n",
    "- A9:\tt, f. \n",
    "- A10:\tt, f. \n",
    "- A11:\tcontinuous. \n",
    "- A12:\tt, f. \n",
    "- A13:\tg, p, s. \n",
    "- A14:\tcontinuous. \n",
    "- A15:\tcontinuous. \n",
    "- A16: +,- (class attribute)\n",
    "   "
   ]
  },
  {
   "cell_type": "code",
   "execution_count": 1,
   "metadata": {},
   "outputs": [],
   "source": [
    "import pandas as pd\n",
    "import numpy as np\n",
    "import matplotlib.pyplot as plt\n",
    "import seaborn as sns\n",
    "%matplotlib inline"
   ]
  },
  {
   "cell_type": "code",
   "execution_count": 2,
   "metadata": {},
   "outputs": [
    {
     "data": {
      "text/html": [
       "<div>\n",
       "<style scoped>\n",
       "    .dataframe tbody tr th:only-of-type {\n",
       "        vertical-align: middle;\n",
       "    }\n",
       "\n",
       "    .dataframe tbody tr th {\n",
       "        vertical-align: top;\n",
       "    }\n",
       "\n",
       "    .dataframe thead th {\n",
       "        text-align: right;\n",
       "    }\n",
       "</style>\n",
       "<table border=\"1\" class=\"dataframe\">\n",
       "  <thead>\n",
       "    <tr style=\"text-align: right;\">\n",
       "      <th></th>\n",
       "      <th>0</th>\n",
       "      <th>1</th>\n",
       "      <th>2</th>\n",
       "      <th>3</th>\n",
       "      <th>4</th>\n",
       "      <th>5</th>\n",
       "      <th>6</th>\n",
       "      <th>7</th>\n",
       "      <th>8</th>\n",
       "      <th>9</th>\n",
       "      <th>10</th>\n",
       "      <th>11</th>\n",
       "      <th>12</th>\n",
       "      <th>13</th>\n",
       "      <th>14</th>\n",
       "      <th>15</th>\n",
       "    </tr>\n",
       "  </thead>\n",
       "  <tbody>\n",
       "    <tr>\n",
       "      <th>0</th>\n",
       "      <td>b</td>\n",
       "      <td>30.83</td>\n",
       "      <td>0.000</td>\n",
       "      <td>u</td>\n",
       "      <td>g</td>\n",
       "      <td>w</td>\n",
       "      <td>v</td>\n",
       "      <td>1.25</td>\n",
       "      <td>t</td>\n",
       "      <td>t</td>\n",
       "      <td>1</td>\n",
       "      <td>f</td>\n",
       "      <td>g</td>\n",
       "      <td>00202</td>\n",
       "      <td>0</td>\n",
       "      <td>+</td>\n",
       "    </tr>\n",
       "    <tr>\n",
       "      <th>1</th>\n",
       "      <td>a</td>\n",
       "      <td>58.67</td>\n",
       "      <td>4.460</td>\n",
       "      <td>u</td>\n",
       "      <td>g</td>\n",
       "      <td>q</td>\n",
       "      <td>h</td>\n",
       "      <td>3.04</td>\n",
       "      <td>t</td>\n",
       "      <td>t</td>\n",
       "      <td>6</td>\n",
       "      <td>f</td>\n",
       "      <td>g</td>\n",
       "      <td>00043</td>\n",
       "      <td>560</td>\n",
       "      <td>+</td>\n",
       "    </tr>\n",
       "    <tr>\n",
       "      <th>2</th>\n",
       "      <td>a</td>\n",
       "      <td>24.50</td>\n",
       "      <td>0.500</td>\n",
       "      <td>u</td>\n",
       "      <td>g</td>\n",
       "      <td>q</td>\n",
       "      <td>h</td>\n",
       "      <td>1.50</td>\n",
       "      <td>t</td>\n",
       "      <td>f</td>\n",
       "      <td>0</td>\n",
       "      <td>f</td>\n",
       "      <td>g</td>\n",
       "      <td>00280</td>\n",
       "      <td>824</td>\n",
       "      <td>+</td>\n",
       "    </tr>\n",
       "    <tr>\n",
       "      <th>3</th>\n",
       "      <td>b</td>\n",
       "      <td>27.83</td>\n",
       "      <td>1.540</td>\n",
       "      <td>u</td>\n",
       "      <td>g</td>\n",
       "      <td>w</td>\n",
       "      <td>v</td>\n",
       "      <td>3.75</td>\n",
       "      <td>t</td>\n",
       "      <td>t</td>\n",
       "      <td>5</td>\n",
       "      <td>t</td>\n",
       "      <td>g</td>\n",
       "      <td>00100</td>\n",
       "      <td>3</td>\n",
       "      <td>+</td>\n",
       "    </tr>\n",
       "    <tr>\n",
       "      <th>4</th>\n",
       "      <td>b</td>\n",
       "      <td>20.17</td>\n",
       "      <td>5.625</td>\n",
       "      <td>u</td>\n",
       "      <td>g</td>\n",
       "      <td>w</td>\n",
       "      <td>v</td>\n",
       "      <td>1.71</td>\n",
       "      <td>t</td>\n",
       "      <td>f</td>\n",
       "      <td>0</td>\n",
       "      <td>f</td>\n",
       "      <td>s</td>\n",
       "      <td>00120</td>\n",
       "      <td>0</td>\n",
       "      <td>+</td>\n",
       "    </tr>\n",
       "  </tbody>\n",
       "</table>\n",
       "</div>"
      ],
      "text/plain": [
       "  0      1      2  3  4  5  6     7  8  9   10 11 12     13   14 15\n",
       "0  b  30.83  0.000  u  g  w  v  1.25  t  t   1  f  g  00202    0  +\n",
       "1  a  58.67  4.460  u  g  q  h  3.04  t  t   6  f  g  00043  560  +\n",
       "2  a  24.50  0.500  u  g  q  h  1.50  t  f   0  f  g  00280  824  +\n",
       "3  b  27.83  1.540  u  g  w  v  3.75  t  t   5  t  g  00100    3  +\n",
       "4  b  20.17  5.625  u  g  w  v  1.71  t  f   0  f  s  00120    0  +"
      ]
     },
     "execution_count": 2,
     "metadata": {},
     "output_type": "execute_result"
    }
   ],
   "source": [
    "data = pd.read_csv(\"credit_card_data.csv\",header=None)\n",
    "data.head()"
   ]
  },
  {
   "cell_type": "code",
   "execution_count": 3,
   "metadata": {},
   "outputs": [
    {
     "name": "stdout",
     "output_type": "stream",
     "text": [
      "The dataset has 690 rows and 16 columns\n"
     ]
    }
   ],
   "source": [
    "print('The dataset has {} rows and {} columns'.format(data.shape[0],data.shape[1]))"
   ]
  },
  {
   "cell_type": "code",
   "execution_count": 4,
   "metadata": {},
   "outputs": [
    {
     "name": "stdout",
     "output_type": "stream",
     "text": [
      "<class 'pandas.core.frame.DataFrame'>\n",
      "RangeIndex: 690 entries, 0 to 689\n",
      "Data columns (total 16 columns):\n",
      "0     690 non-null object\n",
      "1     690 non-null object\n",
      "2     690 non-null float64\n",
      "3     690 non-null object\n",
      "4     690 non-null object\n",
      "5     690 non-null object\n",
      "6     690 non-null object\n",
      "7     690 non-null float64\n",
      "8     690 non-null object\n",
      "9     690 non-null object\n",
      "10    690 non-null int64\n",
      "11    690 non-null object\n",
      "12    690 non-null object\n",
      "13    690 non-null object\n",
      "14    690 non-null int64\n",
      "15    690 non-null object\n",
      "dtypes: float64(2), int64(2), object(12)\n",
      "memory usage: 86.3+ KB\n"
     ]
    }
   ],
   "source": [
    "data.info()"
   ]
  },
  {
   "cell_type": "code",
   "execution_count": 5,
   "metadata": {},
   "outputs": [
    {
     "data": {
      "text/html": [
       "<div>\n",
       "<style scoped>\n",
       "    .dataframe tbody tr th:only-of-type {\n",
       "        vertical-align: middle;\n",
       "    }\n",
       "\n",
       "    .dataframe tbody tr th {\n",
       "        vertical-align: top;\n",
       "    }\n",
       "\n",
       "    .dataframe thead th {\n",
       "        text-align: right;\n",
       "    }\n",
       "</style>\n",
       "<table border=\"1\" class=\"dataframe\">\n",
       "  <thead>\n",
       "    <tr style=\"text-align: right;\">\n",
       "      <th></th>\n",
       "      <th>2</th>\n",
       "      <th>7</th>\n",
       "      <th>10</th>\n",
       "      <th>14</th>\n",
       "    </tr>\n",
       "  </thead>\n",
       "  <tbody>\n",
       "    <tr>\n",
       "      <th>count</th>\n",
       "      <td>690.000000</td>\n",
       "      <td>690.000000</td>\n",
       "      <td>690.00000</td>\n",
       "      <td>690.000000</td>\n",
       "    </tr>\n",
       "    <tr>\n",
       "      <th>mean</th>\n",
       "      <td>4.758725</td>\n",
       "      <td>2.223406</td>\n",
       "      <td>2.40000</td>\n",
       "      <td>1017.385507</td>\n",
       "    </tr>\n",
       "    <tr>\n",
       "      <th>std</th>\n",
       "      <td>4.978163</td>\n",
       "      <td>3.346513</td>\n",
       "      <td>4.86294</td>\n",
       "      <td>5210.102598</td>\n",
       "    </tr>\n",
       "    <tr>\n",
       "      <th>min</th>\n",
       "      <td>0.000000</td>\n",
       "      <td>0.000000</td>\n",
       "      <td>0.00000</td>\n",
       "      <td>0.000000</td>\n",
       "    </tr>\n",
       "    <tr>\n",
       "      <th>25%</th>\n",
       "      <td>1.000000</td>\n",
       "      <td>0.165000</td>\n",
       "      <td>0.00000</td>\n",
       "      <td>0.000000</td>\n",
       "    </tr>\n",
       "    <tr>\n",
       "      <th>50%</th>\n",
       "      <td>2.750000</td>\n",
       "      <td>1.000000</td>\n",
       "      <td>0.00000</td>\n",
       "      <td>5.000000</td>\n",
       "    </tr>\n",
       "    <tr>\n",
       "      <th>75%</th>\n",
       "      <td>7.207500</td>\n",
       "      <td>2.625000</td>\n",
       "      <td>3.00000</td>\n",
       "      <td>395.500000</td>\n",
       "    </tr>\n",
       "    <tr>\n",
       "      <th>max</th>\n",
       "      <td>28.000000</td>\n",
       "      <td>28.500000</td>\n",
       "      <td>67.00000</td>\n",
       "      <td>100000.000000</td>\n",
       "    </tr>\n",
       "  </tbody>\n",
       "</table>\n",
       "</div>"
      ],
      "text/plain": [
       "               2           7          10             14\n",
       "count  690.000000  690.000000  690.00000     690.000000\n",
       "mean     4.758725    2.223406    2.40000    1017.385507\n",
       "std      4.978163    3.346513    4.86294    5210.102598\n",
       "min      0.000000    0.000000    0.00000       0.000000\n",
       "25%      1.000000    0.165000    0.00000       0.000000\n",
       "50%      2.750000    1.000000    0.00000       5.000000\n",
       "75%      7.207500    2.625000    3.00000     395.500000\n",
       "max     28.000000   28.500000   67.00000  100000.000000"
      ]
     },
     "execution_count": 5,
     "metadata": {},
     "output_type": "execute_result"
    }
   ],
   "source": [
    "# Summary statistics of numeric columns with no missing values\n",
    "data.describe()"
   ]
  },
  {
   "cell_type": "markdown",
   "metadata": {},
   "source": [
    "As you can see in the summary statistic above, the numeric features have different scales. This tells us that one must normalise the data before using any algorithm that uses *distances*."
   ]
  },
  {
   "cell_type": "code",
   "execution_count": 6,
   "metadata": {},
   "outputs": [],
   "source": [
    "# Map the target column into 0's (for not approved) and 1's (for approved)\n",
    "data[15] = data[15].apply(lambda approval: 1 if approval == '+' else 0)"
   ]
  },
  {
   "cell_type": "code",
   "execution_count": 7,
   "metadata": {},
   "outputs": [
    {
     "data": {
      "image/png": "[encoded data removed]",
      "text/plain": [
       "<Figure size 576x432 with 1 Axes>"
      ]
     },
     "metadata": {
      "needs_background": "light"
     },
     "output_type": "display_data"
    }
   ],
   "source": [
    "plt.figure(figsize=(8,6))\n",
    "_ = sns.countplot(data[15])\n",
    "_ = plt.xlabel('Credit card approval')\n",
    "_ = plt.xticks([0,1],['Not approved', 'Approved'])\n"
   ]
  },
  {
   "cell_type": "markdown",
   "metadata": {},
   "source": [
    " - There isn't a huge imbalance in the response variable, which is good news! Also note that the majority of credit card applications were not approved. This shows that banks can be choosy while giving out unsecured loans."
   ]
  },
  {
   "cell_type": "code",
   "execution_count": 8,
   "metadata": {},
   "outputs": [
    {
     "data": {
      "image/png": "[encoded data removed]",
      "text/plain": [
       "<Figure size 864x720 with 4 Axes>"
      ]
     },
     "metadata": {
      "needs_background": "light"
     },
     "output_type": "display_data"
    }
   ],
   "source": [
    "# basic EDA of the numeric features\n",
    "fig,ax = plt.subplots(2,2,sharex=True,figsize=(12,10))\n",
    "sns.boxplot(x=data[15],y=data[2], ax=ax[0,0])\n",
    "sns.boxplot(x=data[15],y=data[7],ax=ax[0,1])\n",
    "sns.boxplot(x=data[15],y=data[10],ax=ax[1,0])\n",
    "sns.boxplot(x=data[15],y=data[14],ax=ax[1,1])\n",
    "\n",
    "_ =plt.xticks([0,1],['Not approved', 'Approved'])\n",
    "_ = ax[0,0].set_xlabel('')\n",
    "_ =ax[0,1].set_xlabel('')\n",
    "_ =ax[1,0].set_xlabel('')\n",
    "_ =ax[1,1].set_xlabel('')\n"
   ]
  },
  {
   "cell_type": "code",
   "execution_count": 9,
   "metadata": {},
   "outputs": [
    {
     "name": "stdout",
     "output_type": "stream",
     "text": [
      "Skewness of feature 7: 2.891330424153805\n",
      "Skewness of feature 10: 5.152519857445985\n"
     ]
    },
    {
     "data": {
      "image/png": "[encoded data removed]",
      "text/plain": [
       "<Figure size 864x720 with 3 Axes>"
      ]
     },
     "metadata": {},
     "output_type": "display_data"
    }
   ],
   "source": [
    "## Check the distribution of the numeric features\n",
    "sns.set()\n",
    "fig,ax = plt.subplots(2,2,figsize=(12,10))\n",
    "sns.distplot(data[2],bins=15, ax=ax[0,0])\n",
    "sns.distplot(data[7], ax=ax[0,1])\n",
    "sns.distplot(data[10], ax=ax[1,0])\n",
    "fig.delaxes(ax[1,1])\n",
    "_ =ax[0,0].set_xlabel('Feature 2')\n",
    "_ =ax[0,1].set_xlabel('Feature 7')\n",
    "_ =ax[1,0].set_xlabel('Feature 10')\n",
    "\n",
    "print('Skewness of feature 7: {}'.format(data[7].skew()))\n",
    "print('Skewness of feature 10: {}'.format(data[10].skew()))"
   ]
  },
  {
   "cell_type": "markdown",
   "metadata": {},
   "source": [
    " - Are these features normally distributed? No! Feature 2 is bimodal in nature, features 7 has a significant positive skew, and feature 10 is also postively skewed with a long tail."
   ]
  },
  {
   "cell_type": "markdown",
   "metadata": {},
   "source": [
    "### Missing values\n",
    " - The missing values in this dataset are encoded as '?'. We first convert these to NaN's since they are easy to manipulate with standard Pandas methods."
   ]
  },
  {
   "cell_type": "code",
   "execution_count": 10,
   "metadata": {},
   "outputs": [],
   "source": [
    "#data[data == '?'] = np.nan\n",
    "data.replace(to_replace='?',value=np.nan, inplace=True)"
   ]
  },
  {
   "cell_type": "code",
   "execution_count": 11,
   "metadata": {},
   "outputs": [],
   "source": [
    "# Convert columns 1 and 13 to numeric type. Because of missing values, their dtype was determined as 'object' by Pandas.\n",
    "data[1] = pd.to_numeric(data[1])\n",
    "data[13] = pd.to_numeric(data[13])"
   ]
  },
  {
   "cell_type": "code",
   "execution_count": 12,
   "metadata": {},
   "outputs": [
    {
     "data": {
      "text/plain": [
       "0     12\n",
       "1     12\n",
       "2      0\n",
       "3      6\n",
       "4      6\n",
       "5      9\n",
       "6      9\n",
       "7      0\n",
       "8      0\n",
       "9      0\n",
       "10     0\n",
       "11     0\n",
       "12     0\n",
       "13    13\n",
       "14     0\n",
       "15     0\n",
       "dtype: int64"
      ]
     },
     "execution_count": 12,
     "metadata": {},
     "output_type": "execute_result"
    }
   ],
   "source": [
    "#How many mising values are there in the dataset?\n",
    "data.isnull().sum()"
   ]
  },
  {
   "cell_type": "code",
   "execution_count": 13,
   "metadata": {},
   "outputs": [],
   "source": [
    "data.fillna(data.mean(),inplace=True)"
   ]
  },
  {
   "cell_type": "code",
   "execution_count": 14,
   "metadata": {},
   "outputs": [],
   "source": [
    "# cat_cols : columns with categorical data\n",
    "cat_cols = data.select_dtypes(include=[object]).columns\n",
    "for col in cat_cols:\n",
    "# Impute with the most frequent value or the mode\n",
    "    data[col] = data[col].fillna(data[col].value_counts().index[0])"
   ]
  },
  {
   "cell_type": "code",
   "execution_count": 15,
   "metadata": {},
   "outputs": [
    {
     "name": "stdout",
     "output_type": "stream",
     "text": [
      "Number of missing values in the dataset =  0\n"
     ]
    }
   ],
   "source": [
    "# Is there any more missing value left?\n",
    "print('Number of missing values in the dataset = ',data.isna().sum().sum())"
   ]
  },
  {
   "cell_type": "code",
   "execution_count": 16,
   "metadata": {},
   "outputs": [],
   "source": [
    "#data = pd.get_dummies(data=data,drop_first=True,prefix='is')\n",
    "#One-hot encoding showed bad performance that's why I used label encoding."
   ]
  },
  {
   "cell_type": "code",
   "execution_count": 17,
   "metadata": {},
   "outputs": [],
   "source": [
    "X = data.drop(15,axis=1) #feature set\n",
    "y = data[15] # target variable"
   ]
  },
  {
   "cell_type": "code",
   "execution_count": 18,
   "metadata": {},
   "outputs": [],
   "source": [
    "# Label encoding the categorical columns\n",
    "from sklearn.preprocessing import LabelEncoder\n",
    "le = LabelEncoder()\n",
    "for col in X.columns:\n",
    "    if X[col].dtype=='object':\n",
    "        X[col]=le.fit_transform(X[col])"
   ]
  },
  {
   "cell_type": "code",
   "execution_count": 19,
   "metadata": {},
   "outputs": [],
   "source": [
    "from sklearn.model_selection import train_test_split"
   ]
  },
  {
   "cell_type": "code",
   "execution_count": 20,
   "metadata": {},
   "outputs": [],
   "source": [
    "X_train,X_test,y_train,y_test  = train_test_split(X,y,test_size=0.3,random_state=13)"
   ]
  },
  {
   "cell_type": "code",
   "execution_count": 21,
   "metadata": {},
   "outputs": [
    {
     "name": "stdout",
     "output_type": "stream",
     "text": [
      "The training set has 483 rows and 15 columns\n",
      "The test set has 207 rows and 15 columns\n"
     ]
    }
   ],
   "source": [
    "print('The training set has {} rows and {} columns'.format(X_train.shape[0],X_train.shape[1]))\n",
    "print('The test set has {} rows and {} columns'.format(X_test.shape[0],X_test.shape[1]))"
   ]
  },
  {
   "cell_type": "markdown",
   "metadata": {},
   "source": [
    "### Modelling"
   ]
  },
  {
   "cell_type": "code",
   "execution_count": 22,
   "metadata": {},
   "outputs": [],
   "source": [
    "# Import relevant ML packages from scikit-learn\n",
    "from sklearn.preprocessing import StandardScaler, Imputer\n",
    "from sklearn.pipeline import Pipeline\n",
    "from sklearn.linear_model import LogisticRegression\n",
    "from sklearn.model_selection import GridSearchCV\n",
    "from sklearn.metrics import classification_report, confusion_matrix\n",
    "from sklearn.svm import SVC\n",
    "from sklearn.neighbors import KNeighborsClassifier\n",
    "from sklearn.model_selection import cross_val_score\n",
    "import warnings\n",
    "warnings.filterwarnings('ignore', category=Warning)"
   ]
  },
  {
   "cell_type": "code",
   "execution_count": 23,
   "metadata": {},
   "outputs": [],
   "source": [
    "def generate_report(clf, y_pred,clf_name='classifier'):\n",
    "    '''Generates classification report and shows the best fit parameters\n",
    "    from a GridSearchCV object'''\n",
    "    print(\"Accuracy of {}: {}\".format(clf_name, clf.score(X_test, y_test)))\n",
    "    print(classification_report(y_test, y_pred))\n",
    "    print(\"Tuned Model Parameters: {}\".format(clf.best_params_))"
   ]
  },
  {
   "cell_type": "markdown",
   "metadata": {},
   "source": [
    "The strategy is as follows:\n",
    " - We will make a pipeline with two steps, first the standardization of the data and then applying the classfier.\n",
    " - We will pass this pipeline object to GridSearchCV for hyperparameter tuning using cross-validation.\n",
    " - The classifier will then be fitted to the training data using the best-fit hyperparameters.\n",
    " - We finally test our model on the hold-out set, i.e., the test data."
   ]
  },
  {
   "cell_type": "markdown",
   "metadata": {},
   "source": [
    "#### Logistic regression:"
   ]
  },
  {
   "cell_type": "code",
   "execution_count": 24,
   "metadata": {},
   "outputs": [
    {
     "name": "stdout",
     "output_type": "stream",
     "text": [
      "Accuracy of Logreg: 0.8599033816425121\n",
      "              precision    recall  f1-score   support\n",
      "\n",
      "           0       0.88      0.86      0.87       112\n",
      "           1       0.84      0.86      0.85        95\n",
      "\n",
      "    accuracy                           0.86       207\n",
      "   macro avg       0.86      0.86      0.86       207\n",
      "weighted avg       0.86      0.86      0.86       207\n",
      "\n",
      "Tuned Model Parameters: {'Logreg__C': 0.5, 'Logreg__max_iter': 50}\n"
     ]
    }
   ],
   "source": [
    "# Setup the pipeline\n",
    "#steps = [('Imputer', Imputer(missing_values='NaN', strategy='most_frequent', axis=0)), ('scaler', StandardScaler()),\n",
    "#         ('Logreg', LogisticRegression())]\n",
    "\n",
    "steps = [('scaler', StandardScaler()),\n",
    "         ('Logreg', LogisticRegression(solver='lbfgs'))]\n",
    "pipeline = Pipeline(steps)\n",
    "\n",
    "# Specify the hyperparameter space\n",
    "parameters = {'Logreg__C':[0.01, 0.05, 0.08, 0.1,0.5,1],\n",
    "              'Logreg__max_iter':[50,100,500]}\n",
    "\n",
    "logreg = GridSearchCV(pipeline,parameters, cv =5)\n",
    "logreg.fit(X_train,y_train)\n",
    "\n",
    "# Predict the labels of the test set: y_pred\n",
    "y_pred_logreg = logreg.predict(X_test)\n",
    "\n",
    "# Compute and print metrics\n",
    "generate_report(logreg,y_pred_logreg,'Logreg')"
   ]
  },
  {
   "cell_type": "markdown",
   "metadata": {},
   "source": [
    "#### Support Vector machine:"
   ]
  },
  {
   "cell_type": "code",
   "execution_count": 25,
   "metadata": {},
   "outputs": [
    {
     "name": "stdout",
     "output_type": "stream",
     "text": [
      "Accuracy of SVM: 0.8502415458937198\n",
      "              precision    recall  f1-score   support\n",
      "\n",
      "           0       0.88      0.84      0.86       112\n",
      "           1       0.82      0.86      0.84        95\n",
      "\n",
      "    accuracy                           0.85       207\n",
      "   macro avg       0.85      0.85      0.85       207\n",
      "weighted avg       0.85      0.85      0.85       207\n",
      "\n",
      "Tuned Model Parameters: {'SVC__C': 0.3}\n"
     ]
    }
   ],
   "source": [
    "steps = [('scaler', StandardScaler()),\n",
    "         ('SVC', SVC())]\n",
    "pipeline = Pipeline(steps)\n",
    "\n",
    "# Specify the hyperparameter space\n",
    "parameters = {'SVC__C':[0.1,0.2, 0.3, 0.4, 0.5,1, 10]}\n",
    "svm = GridSearchCV(pipeline,parameters, cv = 5)\n",
    "svm.fit(X_train,y_train)\n",
    "y_pred_SVM = svm.predict(X_test)\n",
    "generate_report(svm,y_pred_SVM,'SVM')\n"
   ]
  },
  {
   "cell_type": "markdown",
   "metadata": {},
   "source": [
    "#### K-nearest Neighbours:"
   ]
  },
  {
   "cell_type": "code",
   "execution_count": 26,
   "metadata": {},
   "outputs": [
    {
     "name": "stdout",
     "output_type": "stream",
     "text": [
      "Accuracy of KNN: 0.8357487922705314\n",
      "              precision    recall  f1-score   support\n",
      "\n",
      "           0       0.81      0.91      0.86       112\n",
      "           1       0.88      0.75      0.81        95\n",
      "\n",
      "    accuracy                           0.84       207\n",
      "   macro avg       0.84      0.83      0.83       207\n",
      "weighted avg       0.84      0.84      0.83       207\n",
      "\n",
      "Tuned Model Parameters: {'KNN__n_neighbors': 7}\n"
     ]
    }
   ],
   "source": [
    "steps = [('scaler', StandardScaler()),\n",
    "         ('KNN', KNeighborsClassifier())]\n",
    "pipeline = Pipeline(steps)\n",
    "parameters = {'KNN__n_neighbors':range(1,20)}\n",
    "\n",
    "knn = GridSearchCV(pipeline,parameters, cv = 5)\n",
    "knn.fit(X_train,y_train)\n",
    "\n",
    "# Predict the labels of the test set: y_pred\n",
    "y_pred_KNN = knn.predict(X_test)\n",
    "\n",
    "generate_report(knn,y_pred_KNN, 'KNN')"
   ]
  },
  {
   "cell_type": "code",
   "execution_count": 27,
   "metadata": {},
   "outputs": [],
   "source": [
    "from sklearn.naive_bayes import GaussianNB\n",
    "from sklearn.metrics import accuracy_score"
   ]
  },
  {
   "cell_type": "code",
   "execution_count": 28,
   "metadata": {},
   "outputs": [
    {
     "name": "stdout",
     "output_type": "stream",
     "text": [
      "Mean CV score (Accuracy): 0.82\n",
      "Accuracy = 80.7%\n",
      "              precision    recall  f1-score   support\n",
      "\n",
      "           0       0.77      0.92      0.84       112\n",
      "           1       0.88      0.67      0.76        95\n",
      "\n",
      "    accuracy                           0.81       207\n",
      "   macro avg       0.82      0.80      0.80       207\n",
      "weighted avg       0.82      0.81      0.80       207\n",
      "\n"
     ]
    }
   ],
   "source": [
    "steps = [('scaler', StandardScaler()),\n",
    "         ('NB', GaussianNB())]\n",
    "pipeline = Pipeline(steps)\n",
    "\n",
    "cv_scores_NB = cross_val_score(pipeline, X_train, y_train, cv=5, scoring='accuracy')\n",
    "print('Mean CV score (Accuracy): {}'.format(round(cv_scores_NB.mean(),2)))\n",
    "pipeline.fit(X_train,y_train)\n",
    "y_pred_NB = pipeline.predict(X_test)\n",
    "\n",
    "print('Accuracy = {}%'.format(round(accuracy_score(y_test,y_pred_NB),3)*100))\n",
    "print(classification_report(y_test, y_pred_NB))"
   ]
  },
  {
   "cell_type": "markdown",
   "metadata": {},
   "source": [
    "#### Stacking:\n",
    "Although stacking is not the focus of this notebook, I'm trying it out just for fun."
   ]
  },
  {
   "cell_type": "code",
   "execution_count": 29,
   "metadata": {},
   "outputs": [],
   "source": [
    "from mlxtend.classifier import StackingCVClassifier"
   ]
  },
  {
   "cell_type": "code",
   "execution_count": 30,
   "metadata": {},
   "outputs": [
    {
     "name": "stdout",
     "output_type": "stream",
     "text": [
      "5-fold cross validation:\n",
      "\n",
      "Accuracy: 0.872 (+/- 0.032) [logistic regression]\n",
      "Accuracy: 0.857 (+/- 0.029) [SVM]\n",
      "Accuracy: 0.845 (+/- 0.031) [KNN]\n",
      "Accuracy: 0.866 (+/- 0.034) [StackingClassifier]\n"
     ]
    }
   ],
   "source": [
    "sclf = StackingCVClassifier(classifiers=[logreg, svm, knn],\n",
    "                            meta_classifier=logreg,\n",
    "                            random_state=42)\n",
    "\n",
    "print('5-fold cross validation:\\n')\n",
    "\n",
    "for clf, label in zip([logreg, svm, knn, sclf], \n",
    "                      ['logistic regression', \n",
    "                       'SVM', \n",
    "                       'KNN',\n",
    "                       'StackingClassifier']):\n",
    "\n",
    "    scores = cross_val_score(clf, X_train, y_train, \n",
    "                                              cv=5, scoring='accuracy')\n",
    "    print(\"Accuracy: %0.3f (+/- %0.3f) [%s]\" \n",
    "          % (scores.mean(), scores.std(), label))"
   ]
  },
  {
   "cell_type": "code",
   "execution_count": 31,
   "metadata": {},
   "outputs": [
    {
     "name": "stdout",
     "output_type": "stream",
     "text": [
      "Accuracy = 87.0%\n"
     ]
    }
   ],
   "source": [
    "sclf.fit(X_train,y_train)\n",
    "y_pred_stack = sclf.predict(X_test)\n",
    "print('Accuracy = {}%'.format(round(accuracy_score(y_test,y_pred_stack),3)*100))"
   ]
  },
  {
   "cell_type": "markdown",
   "metadata": {},
   "source": [
    "In this particular problem, stacking didn't improve the performance of the model. Logistic regression delivered the best performance out of the three classifiers I experimented with. Although the accuracies were comparable, the recall of the positive class (credit card approved) was low for k-nearest neighbours and Naive Bayes. \n",
    "\n",
    "I did not use any tree-based classifiers to keep the modelling part simple. Besides, the dataset was also relatively small."
   ]
  }
 ],
 "metadata": {
  "kernelspec": {
   "display_name": "Python 3",
   "language": "python",
   "name": "python3"
  },
  "language_info": {
   "codemirror_mode": {
    "name": "ipython",
    "version": 3
   },
   "file_extension": ".py",
   "mimetype": "text/x-python",
   "name": "python",
   "nbconvert_exporter": "python",
   "pygments_lexer": "ipython3",
   "version": "3.6.8"
  }
 },
 "nbformat": 4,
 "nbformat_minor": 2
}
